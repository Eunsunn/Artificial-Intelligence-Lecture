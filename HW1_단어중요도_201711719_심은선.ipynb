{
 "cells": [
  {
   "cell_type": "markdown",
   "metadata": {},
   "source": [
    "# 인공지능 HW1\n",
    "## -문서별 TF-IDF가 높은 상위 5개 단어 출력하기-\n",
    "#### 담당 교수님: 김학수 교수님\n",
    "#### 201711719 응용통계학과 심은선\n",
    "#### 제출일: 2020.09.10\n",
    "####    "
   ]
  },
  {
   "cell_type": "code",
   "execution_count": 1,
   "metadata": {},
   "outputs": [],
   "source": [
    "import re\n",
    "import numpy as np\n",
    "import collections\n",
    "from typing import List"
   ]
  },
  {
   "cell_type": "markdown",
   "metadata": {},
   "source": [
    "## 1. 파일 읽기 및 전처리(숫자, 특수문자 제외)"
   ]
  },
  {
   "cell_type": "code",
   "execution_count": 2,
   "metadata": {},
   "outputs": [],
   "source": [
    "files = ['./wk1.단어중요도구하기/문서1.txt', \n",
    "         './wk1.단어중요도구하기/문서2.txt',\n",
    "        './wk1.단어중요도구하기/문서3.txt']"
   ]
  },
  {
   "cell_type": "code",
   "execution_count": 3,
   "metadata": {},
   "outputs": [],
   "source": [
    "# 파일 읽기\n",
    "def read_files(file_paths: List):\n",
    "    texts = []\n",
    "    for idx, file in enumerate(file_paths):\n",
    "        with open(file, 'r', encoding='utf-8') as inFile:\n",
    "            lines = inFile.readlines()\n",
    "            text = ''\n",
    "            for line in lines:\n",
    "                text += line\n",
    "            texts.append(text) \n",
    "            \n",
    "    return texts\n",
    "\n",
    "\n",
    "# 정규표현식으로 숫자, 특수문자 제외, 소문자로 통일\n",
    "def preprocess(docs: List):\n",
    "    preprocessed_texts = []\n",
    "    for text in docs:\n",
    "        preprocessed_texts.append(re.sub('[^a-z^A-Z]', ' ', text).lower())\n",
    "    \n",
    "    return preprocessed_texts"
   ]
  },
  {
   "cell_type": "code",
   "execution_count": 4,
   "metadata": {},
   "outputs": [
    {
     "name": "stdout",
     "output_type": "stream",
     "text": [
      "['Konkuk University is one of the comprehensive private universities located in Seoul and Chungju.\\nThe Seoul campus is located in the southeastern part of Seoul, near the Han River, and is served by a metro station of the same name.\\nThe Seoul campus has 13 undergraduate colleges and 13 graduate schools, whereas the Glocal Campus in Chungju is composed of 7 undergraduate colleges and 2 graduate schools.\\nCurrently, 23,000 students are attending the 238,980m² Seoul campus and 15,500 students attending the 31,763m² Global Campus in Chungju, which is about an hour away from the Seoul Campus. ', 'Computer engineering (CpE) is a branch of engineering that integrates several fields of computer science and electronic engineering required to develop computer hardware and software.\\nComputer engineers usually have training in electronic engineering (or electrical engineering), software design, and hardware-software integration instead of only software engineering or electronic engineering.\\nComputer engineers are involved in many hardware and software aspects of computing, from the design of individual microcontrollers, microprocessors, personal computers, and supercomputers, to circuit design.\\nThis field of engineering not only focuses on how computer systems themselves work but also how they integrate into the larger picture.', 'Artificial intelligence (AI), sometimes called machine intelligence, is intelligence demonstrated by machines, unlike the natural intelligence displayed by humans and animals.\\nLeading AI textbooks define the field as the study of \"intelligent agents\": any device that perceives its environment and takes actions that maximize its chance of successfully achieving its goals.\\nColloquially, the term \"artificial intelligence\" is often used to describe machines (or computers) that mimic \"cognitive\" functions that humans associate with the human mind, such as \"learning\" and \"problem solving\".\\n']\n"
     ]
    }
   ],
   "source": [
    "#원본 문서\n",
    "docs = read_files(files)\n",
    "print(docs)"
   ]
  },
  {
   "cell_type": "code",
   "execution_count": 5,
   "metadata": {},
   "outputs": [
    {
     "name": "stdout",
     "output_type": "stream",
     "text": [
      "['konkuk university is one of the comprehensive private universities located in seoul and chungju  the seoul campus is located in the southeastern part of seoul  near the han river  and is served by a metro station of the same name  the seoul campus has    undergraduate colleges and    graduate schools  whereas the glocal campus in chungju is composed of   undergraduate colleges and   graduate schools  currently         students are attending the        m  seoul campus and        students attending the       m  global campus in chungju  which is about an hour away from the seoul campus  ', 'computer engineering  cpe  is a branch of engineering that integrates several fields of computer science and electronic engineering required to develop computer hardware and software  computer engineers usually have training in electronic engineering  or electrical engineering   software design  and hardware software integration instead of only software engineering or electronic engineering  computer engineers are involved in many hardware and software aspects of computing  from the design of individual microcontrollers  microprocessors  personal computers  and supercomputers  to circuit design  this field of engineering not only focuses on how computer systems themselves work but also how they integrate into the larger picture ', 'artificial intelligence  ai   sometimes called machine intelligence  is intelligence demonstrated by machines  unlike the natural intelligence displayed by humans and animals  leading ai textbooks define the field as the study of  intelligent agents   any device that perceives its environment and takes actions that maximize its chance of successfully achieving its goals  colloquially  the term  artificial intelligence  is often used to describe machines  or computers  that mimic  cognitive  functions that humans associate with the human mind  such as  learning  and  problem solving   ']\n"
     ]
    }
   ],
   "source": [
    "#전처리한 문서\n",
    "preprocessed_docs = preprocess(docs)\n",
    "print(preprocessed_docs)"
   ]
  },
  {
   "cell_type": "markdown",
   "metadata": {},
   "source": [
    "## 2. TF-IDF 계산하기"
   ]
  },
  {
   "cell_type": "code",
   "execution_count": 6,
   "metadata": {},
   "outputs": [],
   "source": [
    "# 문서별 TF 구하기 (문서별로 단어 등장 횟수 count, 공백 기준 분리)\n",
    "def get_TF(docs: List):\n",
    "    TF = [] \n",
    "    for idx, text in enumerate(docs):\n",
    "        words = text.split()\n",
    "        word_count = collections.Counter(words)\n",
    "        TF.append(word_count)\n",
    "    \n",
    "    return TF\n",
    "\n",
    "\n",
    "# DF 구하기\n",
    "def get_DF(docs: List):\n",
    "    word_ls = []\n",
    "    for doc in docs:\n",
    "        word_ls += list(set(doc.split()))\n",
    "    df = collections.Counter(word_ls) #문서 전체의 df\n",
    "    return df\n",
    "\n",
    "\n",
    "\n",
    "# 문서별 TF-IDF 구하기\n",
    "def get_TFIDF(file_paths: List):\n",
    "    docs = read_files(file_paths)\n",
    "    preprocessed_docs = preprocess(docs)\n",
    "    tf = get_TF(preprocessed_docs)\n",
    "    df = get_DF(preprocessed_docs)\n",
    "    N = len(docs)\n",
    "    \n",
    "    docs_tf_idf = []\n",
    "    for word_count in tf: #문서마다 반복\n",
    "        doc_tf_idf = dict()\n",
    "        for word, count in word_count.items(): # 문서의 단어별로 tf-idf를 구한다\n",
    "            word_tf_idf = count * np.log(N / df[word])\n",
    "            doc_tf_idf[word] = word_tf_idf\n",
    "        docs_tf_idf.append(doc_tf_idf)\n",
    "    \n",
    "    return docs_tf_idf"
   ]
  },
  {
   "cell_type": "code",
   "execution_count": 7,
   "metadata": {},
   "outputs": [
    {
     "name": "stdout",
     "output_type": "stream",
     "text": [
      "[Counter({'the': 10, 'seoul': 6, 'campus': 6, 'is': 5, 'and': 5, 'of': 4, 'in': 4, 'chungju': 3, 'located': 2, 'undergraduate': 2, 'colleges': 2, 'graduate': 2, 'schools': 2, 'students': 2, 'attending': 2, 'm': 2, 'konkuk': 1, 'university': 1, 'one': 1, 'comprehensive': 1, 'private': 1, 'universities': 1, 'southeastern': 1, 'part': 1, 'near': 1, 'han': 1, 'river': 1, 'served': 1, 'by': 1, 'a': 1, 'metro': 1, 'station': 1, 'same': 1, 'name': 1, 'has': 1, 'whereas': 1, 'glocal': 1, 'composed': 1, 'currently': 1, 'are': 1, 'global': 1, 'which': 1, 'about': 1, 'an': 1, 'hour': 1, 'away': 1, 'from': 1}), Counter({'engineering': 8, 'computer': 6, 'of': 6, 'and': 5, 'software': 5, 'electronic': 3, 'hardware': 3, 'design': 3, 'to': 2, 'engineers': 2, 'in': 2, 'or': 2, 'only': 2, 'the': 2, 'how': 2, 'cpe': 1, 'is': 1, 'a': 1, 'branch': 1, 'that': 1, 'integrates': 1, 'several': 1, 'fields': 1, 'science': 1, 'required': 1, 'develop': 1, 'usually': 1, 'have': 1, 'training': 1, 'electrical': 1, 'integration': 1, 'instead': 1, 'are': 1, 'involved': 1, 'many': 1, 'aspects': 1, 'computing': 1, 'from': 1, 'individual': 1, 'microcontrollers': 1, 'microprocessors': 1, 'personal': 1, 'computers': 1, 'supercomputers': 1, 'circuit': 1, 'this': 1, 'field': 1, 'not': 1, 'focuses': 1, 'on': 1, 'systems': 1, 'themselves': 1, 'work': 1, 'but': 1, 'also': 1, 'they': 1, 'integrate': 1, 'into': 1, 'larger': 1, 'picture': 1}), Counter({'intelligence': 5, 'the': 5, 'that': 4, 'and': 3, 'its': 3, 'artificial': 2, 'ai': 2, 'is': 2, 'by': 2, 'machines': 2, 'humans': 2, 'as': 2, 'of': 2, 'sometimes': 1, 'called': 1, 'machine': 1, 'demonstrated': 1, 'unlike': 1, 'natural': 1, 'displayed': 1, 'animals': 1, 'leading': 1, 'textbooks': 1, 'define': 1, 'field': 1, 'study': 1, 'intelligent': 1, 'agents': 1, 'any': 1, 'device': 1, 'perceives': 1, 'environment': 1, 'takes': 1, 'actions': 1, 'maximize': 1, 'chance': 1, 'successfully': 1, 'achieving': 1, 'goals': 1, 'colloquially': 1, 'term': 1, 'often': 1, 'used': 1, 'to': 1, 'describe': 1, 'or': 1, 'computers': 1, 'mimic': 1, 'cognitive': 1, 'functions': 1, 'associate': 1, 'with': 1, 'human': 1, 'mind': 1, 'such': 1, 'learning': 1, 'problem': 1, 'solving': 1})]\n"
     ]
    }
   ],
   "source": [
    "#문서별 TF\n",
    "tf = get_TF(preprocessed_docs)\n",
    "print(tf)"
   ]
  },
  {
   "cell_type": "code",
   "execution_count": 8,
   "metadata": {
    "scrolled": true
   },
   "outputs": [
    {
     "name": "stdout",
     "output_type": "stream",
     "text": [
      "Counter({'the': 3, 'is': 3, 'and': 3, 'of': 3, 'are': 2, 'in': 2, 'from': 2, 'by': 2, 'a': 2, 'to': 2, 'computers': 2, 'field': 2, 'that': 2, 'or': 2, 'konkuk': 1, 'han': 1, 'name': 1, 'currently': 1, 'whereas': 1, 'students': 1, 'graduate': 1, 'away': 1, 'same': 1, 'which': 1, 'colleges': 1, 'composed': 1, 'attending': 1, 'part': 1, 'has': 1, 'private': 1, 'one': 1, 'comprehensive': 1, 'chungju': 1, 'an': 1, 'about': 1, 'station': 1, 'global': 1, 'glocal': 1, 'universities': 1, 'campus': 1, 'located': 1, 'undergraduate': 1, 'river': 1, 'served': 1, 'seoul': 1, 'schools': 1, 'near': 1, 'hour': 1, 'm': 1, 'southeastern': 1, 'metro': 1, 'university': 1, 'but': 1, 'work': 1, 'hardware': 1, 'required': 1, 'focuses': 1, 'this': 1, 'how': 1, 'electronic': 1, 'develop': 1, 'engineers': 1, 'electrical': 1, 'training': 1, 'not': 1, 'circuit': 1, 'picture': 1, 'also': 1, 'integration': 1, 'cpe': 1, 'involved': 1, 'only': 1, 'on': 1, 'design': 1, 'engineering': 1, 'supercomputers': 1, 'fields': 1, 'they': 1, 'aspects': 1, 'branch': 1, 'science': 1, 'individual': 1, 'themselves': 1, 'into': 1, 'software': 1, 'systems': 1, 'computer': 1, 'instead': 1, 'several': 1, 'have': 1, 'many': 1, 'personal': 1, 'microprocessors': 1, 'integrates': 1, 'usually': 1, 'integrate': 1, 'larger': 1, 'microcontrollers': 1, 'computing': 1, 'actions': 1, 'ai': 1, 'takes': 1, 'problem': 1, 'demonstrated': 1, 'colloquially': 1, 'such': 1, 'animals': 1, 'artificial': 1, 'define': 1, 'chance': 1, 'term': 1, 'unlike': 1, 'describe': 1, 'with': 1, 'machines': 1, 'environment': 1, 'humans': 1, 'machine': 1, 'mimic': 1, 'mind': 1, 'agents': 1, 'natural': 1, 'study': 1, 'intelligent': 1, 'achieving': 1, 'solving': 1, 'learning': 1, 'goals': 1, 'associate': 1, 'used': 1, 'cognitive': 1, 'perceives': 1, 'intelligence': 1, 'successfully': 1, 'functions': 1, 'sometimes': 1, 'its': 1, 'maximize': 1, 'displayed': 1, 'textbooks': 1, 'device': 1, 'any': 1, 'leading': 1, 'human': 1, 'as': 1, 'called': 1, 'often': 1})\n"
     ]
    }
   ],
   "source": [
    "#문서 전체 DF\n",
    "df = get_DF(preprocessed_docs)\n",
    "print(df)"
   ]
  },
  {
   "cell_type": "code",
   "execution_count": 9,
   "metadata": {},
   "outputs": [
    {
     "name": "stdout",
     "output_type": "stream",
     "text": [
      "[{'konkuk': 1.0986122886681098, 'university': 1.0986122886681098, 'is': 0.0, 'one': 1.0986122886681098, 'of': 0.0, 'the': 0.0, 'comprehensive': 1.0986122886681098, 'private': 1.0986122886681098, 'universities': 1.0986122886681098, 'located': 2.1972245773362196, 'in': 1.6218604324326575, 'seoul': 6.591673732008658, 'and': 0.0, 'chungju': 3.295836866004329, 'campus': 6.591673732008658, 'southeastern': 1.0986122886681098, 'part': 1.0986122886681098, 'near': 1.0986122886681098, 'han': 1.0986122886681098, 'river': 1.0986122886681098, 'served': 1.0986122886681098, 'by': 0.4054651081081644, 'a': 0.4054651081081644, 'metro': 1.0986122886681098, 'station': 1.0986122886681098, 'same': 1.0986122886681098, 'name': 1.0986122886681098, 'has': 1.0986122886681098, 'undergraduate': 2.1972245773362196, 'colleges': 2.1972245773362196, 'graduate': 2.1972245773362196, 'schools': 2.1972245773362196, 'whereas': 1.0986122886681098, 'glocal': 1.0986122886681098, 'composed': 1.0986122886681098, 'currently': 1.0986122886681098, 'students': 2.1972245773362196, 'are': 0.4054651081081644, 'attending': 2.1972245773362196, 'm': 2.1972245773362196, 'global': 1.0986122886681098, 'which': 1.0986122886681098, 'about': 1.0986122886681098, 'an': 1.0986122886681098, 'hour': 1.0986122886681098, 'away': 1.0986122886681098, 'from': 0.4054651081081644}, {'computer': 6.591673732008658, 'engineering': 8.788898309344878, 'cpe': 1.0986122886681098, 'is': 0.0, 'a': 0.4054651081081644, 'branch': 1.0986122886681098, 'of': 0.0, 'that': 0.4054651081081644, 'integrates': 1.0986122886681098, 'several': 1.0986122886681098, 'fields': 1.0986122886681098, 'science': 1.0986122886681098, 'and': 0.0, 'electronic': 3.295836866004329, 'required': 1.0986122886681098, 'to': 0.8109302162163288, 'develop': 1.0986122886681098, 'hardware': 3.295836866004329, 'software': 5.493061443340549, 'engineers': 2.1972245773362196, 'usually': 1.0986122886681098, 'have': 1.0986122886681098, 'training': 1.0986122886681098, 'in': 0.8109302162163288, 'or': 0.8109302162163288, 'electrical': 1.0986122886681098, 'design': 3.295836866004329, 'integration': 1.0986122886681098, 'instead': 1.0986122886681098, 'only': 2.1972245773362196, 'are': 0.4054651081081644, 'involved': 1.0986122886681098, 'many': 1.0986122886681098, 'aspects': 1.0986122886681098, 'computing': 1.0986122886681098, 'from': 0.4054651081081644, 'the': 0.0, 'individual': 1.0986122886681098, 'microcontrollers': 1.0986122886681098, 'microprocessors': 1.0986122886681098, 'personal': 1.0986122886681098, 'computers': 0.4054651081081644, 'supercomputers': 1.0986122886681098, 'circuit': 1.0986122886681098, 'this': 1.0986122886681098, 'field': 0.4054651081081644, 'not': 1.0986122886681098, 'focuses': 1.0986122886681098, 'on': 1.0986122886681098, 'how': 2.1972245773362196, 'systems': 1.0986122886681098, 'themselves': 1.0986122886681098, 'work': 1.0986122886681098, 'but': 1.0986122886681098, 'also': 1.0986122886681098, 'they': 1.0986122886681098, 'integrate': 1.0986122886681098, 'into': 1.0986122886681098, 'larger': 1.0986122886681098, 'picture': 1.0986122886681098}, {'artificial': 2.1972245773362196, 'intelligence': 5.493061443340549, 'ai': 2.1972245773362196, 'sometimes': 1.0986122886681098, 'called': 1.0986122886681098, 'machine': 1.0986122886681098, 'is': 0.0, 'demonstrated': 1.0986122886681098, 'by': 0.8109302162163288, 'machines': 2.1972245773362196, 'unlike': 1.0986122886681098, 'the': 0.0, 'natural': 1.0986122886681098, 'displayed': 1.0986122886681098, 'humans': 2.1972245773362196, 'and': 0.0, 'animals': 1.0986122886681098, 'leading': 1.0986122886681098, 'textbooks': 1.0986122886681098, 'define': 1.0986122886681098, 'field': 0.4054651081081644, 'as': 2.1972245773362196, 'study': 1.0986122886681098, 'of': 0.0, 'intelligent': 1.0986122886681098, 'agents': 1.0986122886681098, 'any': 1.0986122886681098, 'device': 1.0986122886681098, 'that': 1.6218604324326575, 'perceives': 1.0986122886681098, 'its': 3.295836866004329, 'environment': 1.0986122886681098, 'takes': 1.0986122886681098, 'actions': 1.0986122886681098, 'maximize': 1.0986122886681098, 'chance': 1.0986122886681098, 'successfully': 1.0986122886681098, 'achieving': 1.0986122886681098, 'goals': 1.0986122886681098, 'colloquially': 1.0986122886681098, 'term': 1.0986122886681098, 'often': 1.0986122886681098, 'used': 1.0986122886681098, 'to': 0.4054651081081644, 'describe': 1.0986122886681098, 'or': 0.4054651081081644, 'computers': 0.4054651081081644, 'mimic': 1.0986122886681098, 'cognitive': 1.0986122886681098, 'functions': 1.0986122886681098, 'associate': 1.0986122886681098, 'with': 1.0986122886681098, 'human': 1.0986122886681098, 'mind': 1.0986122886681098, 'such': 1.0986122886681098, 'learning': 1.0986122886681098, 'problem': 1.0986122886681098, 'solving': 1.0986122886681098}]\n"
     ]
    }
   ],
   "source": [
    "#문서별 TF-IDF\n",
    "docs_tf_idf = get_TFIDF(files)\n",
    "print(docs_tf_idf)"
   ]
  },
  {
   "cell_type": "markdown",
   "metadata": {},
   "source": [
    "## 3. 문서별 상위 5개 단어 출력"
   ]
  },
  {
   "cell_type": "code",
   "execution_count": 10,
   "metadata": {},
   "outputs": [],
   "source": [
    "def print_TFIDF(docs_tf_idf: dict, k:int):\n",
    "    #문서 내에서 TF-IDF가 높은 순으로 정렬하기\n",
    "    sort_docs_tf_idf = []\n",
    "    for doc_tf_idf in docs_tf_idf:\n",
    "        sort_docs_tf_idf.append(sorted(doc_tf_idf.items(), key=lambda x: x[1], reverse=True))\n",
    "    \n",
    "    # 문서별 TF-IDF가 높은 상위 5개 단어 출력하기\n",
    "    for doc in range(len(docs_tf_idf)):\n",
    "        print( '[' + str(doc+1) + ' 번째 문서의 TF-IDF가 높은 상위 5개 단어 리스트]')\n",
    "        tf_idf = sort_docs_tf_idf[doc]\n",
    "        for i in range(k):\n",
    "            print('단어: ' + tf_idf[i][0] +',\\t' + 'TF-IDF값: ' + str(tf_idf[i][1]))\n",
    "        print('\\n')"
   ]
  },
  {
   "cell_type": "code",
   "execution_count": 11,
   "metadata": {},
   "outputs": [
    {
     "name": "stdout",
     "output_type": "stream",
     "text": [
      "[1 번째 문서의 TF-IDF가 높은 상위 5개 단어 리스트]\n",
      "단어: seoul,\tTF-IDF값: 6.591673732008658\n",
      "단어: campus,\tTF-IDF값: 6.591673732008658\n",
      "단어: chungju,\tTF-IDF값: 3.295836866004329\n",
      "단어: located,\tTF-IDF값: 2.1972245773362196\n",
      "단어: undergraduate,\tTF-IDF값: 2.1972245773362196\n",
      "\n",
      "\n",
      "[2 번째 문서의 TF-IDF가 높은 상위 5개 단어 리스트]\n",
      "단어: engineering,\tTF-IDF값: 8.788898309344878\n",
      "단어: computer,\tTF-IDF값: 6.591673732008658\n",
      "단어: software,\tTF-IDF값: 5.493061443340549\n",
      "단어: electronic,\tTF-IDF값: 3.295836866004329\n",
      "단어: hardware,\tTF-IDF값: 3.295836866004329\n",
      "\n",
      "\n",
      "[3 번째 문서의 TF-IDF가 높은 상위 5개 단어 리스트]\n",
      "단어: intelligence,\tTF-IDF값: 5.493061443340549\n",
      "단어: its,\tTF-IDF값: 3.295836866004329\n",
      "단어: artificial,\tTF-IDF값: 2.1972245773362196\n",
      "단어: ai,\tTF-IDF값: 2.1972245773362196\n",
      "단어: machines,\tTF-IDF값: 2.1972245773362196\n",
      "\n",
      "\n"
     ]
    }
   ],
   "source": [
    "#상위 5개 단어 출력하기\n",
    "print_TFIDF(get_TFIDF(files), 5)"
   ]
  },
  {
   "cell_type": "code",
   "execution_count": null,
   "metadata": {},
   "outputs": [],
   "source": []
  }
 ],
 "metadata": {
  "kernelspec": {
   "display_name": "Python 3",
   "language": "python",
   "name": "python3"
  },
  "language_info": {
   "codemirror_mode": {
    "name": "ipython",
    "version": 3
   },
   "file_extension": ".py",
   "mimetype": "text/x-python",
   "name": "python",
   "nbconvert_exporter": "python",
   "pygments_lexer": "ipython3",
   "version": "3.7.4"
  }
 },
 "nbformat": 4,
 "nbformat_minor": 2
}
