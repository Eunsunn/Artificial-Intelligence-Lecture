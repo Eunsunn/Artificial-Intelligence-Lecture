{
  "nbformat": 4,
  "nbformat_minor": 0,
  "metadata": {
    "colab": {
      "name": "HW6_CRFs_201711719_심은선.ipynb",
      "provenance": [],
      "collapsed_sections": []
    },
    "kernelspec": {
      "display_name": "Python 3",
      "language": "python",
      "name": "python3"
    },
    "language_info": {
      "codemirror_mode": {
        "name": "ipython",
        "version": 3
      },
      "file_extension": ".py",
      "mimetype": "text/x-python",
      "name": "python",
      "nbconvert_exporter": "python",
      "pygments_lexer": "ipython3",
      "version": "3.7.4"
    }
  },
  "cells": [
    {
      "cell_type": "markdown",
      "metadata": {
        "id": "YYKwldBwVXIW"
      },
      "source": [
        "# 인공지능 과제6\n",
        "### : CRFs 기반 자동 띄어쓰기 성능 향상\n",
        "- 학번: 201711719\n",
        "- 학과: 응용통계학과\n",
        "- 이름: 심은선\n",
        "- 제출날짜: 2020.10.19"
      ]
    },
    {
      "cell_type": "markdown",
      "metadata": {
        "id": "W6GTWsLcAuL0"
      },
      "source": [
        "## 0. Install & Load libraries"
      ]
    },
    {
      "cell_type": "code",
      "metadata": {
        "id": "D9Y01uOU_pI0",
        "outputId": "bd824381-78f8-4d7b-9b3b-f87d46dceff6",
        "colab": {
          "base_uri": "https://localhost:8080/",
          "height": 34
        }
      },
      "source": [
        "from google.colab import drive\n",
        "drive.mount(\"/gdrive\", force_remount=True)"
      ],
      "execution_count": 1,
      "outputs": [
        {
          "output_type": "stream",
          "text": [
            "Mounted at /gdrive\n"
          ],
          "name": "stdout"
        }
      ]
    },
    {
      "cell_type": "code",
      "metadata": {
        "id": "7yr1IGKt_oQM",
        "outputId": "7c307101-5d13-4904-a703-e49d64397de3",
        "colab": {
          "base_uri": "https://localhost:8080/",
          "height": 105
        }
      },
      "source": [
        "!pip install sklearn-crfsuite"
      ],
      "execution_count": 2,
      "outputs": [
        {
          "output_type": "stream",
          "text": [
            "Requirement already satisfied: sklearn-crfsuite in /usr/local/lib/python3.6/dist-packages (0.3.6)\n",
            "Requirement already satisfied: six in /usr/local/lib/python3.6/dist-packages (from sklearn-crfsuite) (1.15.0)\n",
            "Requirement already satisfied: python-crfsuite>=0.8.3 in /usr/local/lib/python3.6/dist-packages (from sklearn-crfsuite) (0.9.7)\n",
            "Requirement already satisfied: tabulate in /usr/local/lib/python3.6/dist-packages (from sklearn-crfsuite) (0.8.7)\n",
            "Requirement already satisfied: tqdm>=2.0 in /usr/local/lib/python3.6/dist-packages (from sklearn-crfsuite) (4.41.1)\n"
          ],
          "name": "stdout"
        }
      ]
    },
    {
      "cell_type": "code",
      "metadata": {
        "id": "8AhEpssxTBzm"
      },
      "source": [
        "import sklearn_crfsuite\n",
        "from sklearn_crfsuite import metrics\n",
        "from sklearn.model_selection import train_test_split"
      ],
      "execution_count": 3,
      "outputs": []
    },
    {
      "cell_type": "markdown",
      "metadata": {
        "id": "hvCvIOSzA5Hn"
      },
      "source": [
        "## 1. Data load"
      ]
    },
    {
      "cell_type": "code",
      "metadata": {
        "id": "_JXU-7Xk_h4j"
      },
      "source": [
        "def read_file(file_path):\n",
        "  # \"spacing_data.txt\" 파일을 읽고 lines에 읽은 데이터를 저장\n",
        "  with open(file_path, \"r\", encoding=\"utf8\") as inFile:\n",
        "      lines = inFile.readlines()\n",
        "\n",
        "  # 데이터를 음절로 이루어진 문장과 정답 값으로 나누어 저장\n",
        "  datas = []\n",
        "  for line in lines:\n",
        "      pieces = line.strip().split(\"\\t\")\n",
        "      eumjeol_sequence, label = pieces[0].split(), pieces[1].split()\n",
        "      datas.append((eumjeol_sequence, label))\n",
        "\n",
        "  return datas"
      ],
      "execution_count": 4,
      "outputs": []
    },
    {
      "cell_type": "code",
      "metadata": {
        "id": "IE_3xU1yBAj_"
      },
      "source": [
        "# 파일 경로\n",
        "file_path = \"/gdrive/My Drive/인공지능(4-2)/week6_실습/spacing_data.txt\"\n",
        "\n",
        "datas = read_file(file_path)\n",
        "X, y = zip(*datas)"
      ],
      "execution_count": 5,
      "outputs": []
    },
    {
      "cell_type": "markdown",
      "metadata": {
        "id": "NRoYASiQBZJL"
      },
      "source": [
        "## 2. Train test split"
      ]
    },
    {
      "cell_type": "code",
      "metadata": {
        "id": "P_jEwhFCBKtZ",
        "outputId": "58df9e2d-a81d-4abb-8083-d69cca6da768",
        "colab": {
          "base_uri": "https://localhost:8080/",
          "height": 125
        }
      },
      "source": [
        "train_x, test_x, train_y, test_y = train_test_split(X, y, test_size=0.1, random_state=42)  \n",
        "train_datas, test_datas = list(zip(train_x, train_y)), list(zip(test_x, test_y))\n",
        "\n",
        "print(\"train_datas 개수 : \" + str(len(train_datas)))          \n",
        "print(\"test_datas 개수 : \" + str(len(test_datas)) + \"\\n\")\n",
        "\n",
        "print(\"X:\", train_datas[0][0])\n",
        "print(\"y:\", train_datas[0][1])"
      ],
      "execution_count": 6,
      "outputs": [
        {
          "output_type": "stream",
          "text": [
            "train_datas 개수 : 900\n",
            "test_datas 개수 : 100\n",
            "\n",
            "X: ['몽', '골', '사', '람', '의', '고', '대', '종', '교', '또', '한', '우', '리', '와', '같', '은', '무', '교', '(', '巫', '敎', ')', '로', '서', '하', '늘', '을', '최', '고', '의', '신', '으', '로', '섬', '겼', '다', '.']\n",
            "y: ['B', 'I', 'B', 'I', 'I', 'B', 'I', 'B', 'I', 'B', 'I', 'B', 'I', 'I', 'B', 'I', 'B', 'I', 'I', 'I', 'I', 'I', 'I', 'I', 'B', 'I', 'I', 'B', 'I', 'I', 'B', 'I', 'I', 'B', 'I', 'I', 'I']\n"
          ],
          "name": "stdout"
        }
      ]
    },
    {
      "cell_type": "markdown",
      "metadata": {
        "id": "3NJ8tEHzDcs1"
      },
      "source": [
        "## 3. Preprocessing"
      ]
    },
    {
      "cell_type": "code",
      "metadata": {
        "id": "uNexipgQDZrq"
      },
      "source": [
        "# CRFs에 학습시키기 위해 음절을 feature화 한다\n",
        "def sent2feature(eumjeol_sequence):\n",
        "  features = []\n",
        "  for idx in range(len(eumjeol_sequence)):\n",
        "    feature = dict()\n",
        "    if idx != 0:\n",
        "      feature[\"PREV\"] = eumjeol_sequence[idx-1] \n",
        "    if idx != len(eumjeol_sequence)-1:\n",
        "      feature[\"NEXT\"] = eumjeol_sequence[idx+1]\n",
        "    feature[\"CUREENT\"] = eumjeol_sequence[idx]\n",
        "    features.append(feature)\n",
        "  return features"
      ],
      "execution_count": 7,
      "outputs": []
    },
    {
      "cell_type": "code",
      "metadata": {
        "id": "sHmsLJ3qDYWK"
      },
      "source": [
        "train_x = [sent2feature(x) for x in train_x]\n",
        "test_x = [sent2feature(x) for x in test_x]"
      ],
      "execution_count": 8,
      "outputs": []
    },
    {
      "cell_type": "code",
      "metadata": {
        "id": "z2qn5ID2ENjq",
        "outputId": "55c06a5a-66f3-4bfb-c3d9-3a176492f831",
        "colab": {
          "base_uri": "https://localhost:8080/",
          "height": 72
        }
      },
      "source": [
        "print(train_x[0])\n",
        "print(test_x[0])"
      ],
      "execution_count": 9,
      "outputs": [
        {
          "output_type": "stream",
          "text": [
            "[{'NEXT': '골', 'CUREENT': '몽'}, {'PREV': '몽', 'NEXT': '사', 'CUREENT': '골'}, {'PREV': '골', 'NEXT': '람', 'CUREENT': '사'}, {'PREV': '사', 'NEXT': '의', 'CUREENT': '람'}, {'PREV': '람', 'NEXT': '고', 'CUREENT': '의'}, {'PREV': '의', 'NEXT': '대', 'CUREENT': '고'}, {'PREV': '고', 'NEXT': '종', 'CUREENT': '대'}, {'PREV': '대', 'NEXT': '교', 'CUREENT': '종'}, {'PREV': '종', 'NEXT': '또', 'CUREENT': '교'}, {'PREV': '교', 'NEXT': '한', 'CUREENT': '또'}, {'PREV': '또', 'NEXT': '우', 'CUREENT': '한'}, {'PREV': '한', 'NEXT': '리', 'CUREENT': '우'}, {'PREV': '우', 'NEXT': '와', 'CUREENT': '리'}, {'PREV': '리', 'NEXT': '같', 'CUREENT': '와'}, {'PREV': '와', 'NEXT': '은', 'CUREENT': '같'}, {'PREV': '같', 'NEXT': '무', 'CUREENT': '은'}, {'PREV': '은', 'NEXT': '교', 'CUREENT': '무'}, {'PREV': '무', 'NEXT': '(', 'CUREENT': '교'}, {'PREV': '교', 'NEXT': '巫', 'CUREENT': '('}, {'PREV': '(', 'NEXT': '敎', 'CUREENT': '巫'}, {'PREV': '巫', 'NEXT': ')', 'CUREENT': '敎'}, {'PREV': '敎', 'NEXT': '로', 'CUREENT': ')'}, {'PREV': ')', 'NEXT': '서', 'CUREENT': '로'}, {'PREV': '로', 'NEXT': '하', 'CUREENT': '서'}, {'PREV': '서', 'NEXT': '늘', 'CUREENT': '하'}, {'PREV': '하', 'NEXT': '을', 'CUREENT': '늘'}, {'PREV': '늘', 'NEXT': '최', 'CUREENT': '을'}, {'PREV': '을', 'NEXT': '고', 'CUREENT': '최'}, {'PREV': '최', 'NEXT': '의', 'CUREENT': '고'}, {'PREV': '고', 'NEXT': '신', 'CUREENT': '의'}, {'PREV': '의', 'NEXT': '으', 'CUREENT': '신'}, {'PREV': '신', 'NEXT': '로', 'CUREENT': '으'}, {'PREV': '으', 'NEXT': '섬', 'CUREENT': '로'}, {'PREV': '로', 'NEXT': '겼', 'CUREENT': '섬'}, {'PREV': '섬', 'NEXT': '다', 'CUREENT': '겼'}, {'PREV': '겼', 'NEXT': '.', 'CUREENT': '다'}, {'PREV': '다', 'CUREENT': '.'}]\n",
            "[{'NEXT': '편', 'CUREENT': '남'}, {'PREV': '남', 'NEXT': '마', 'CUREENT': '편'}, {'PREV': '편', 'NEXT': '저', 'CUREENT': '마'}, {'PREV': '마', 'NEXT': '생', 'CUREENT': '저'}, {'PREV': '저', 'NEXT': '활', 'CUREENT': '생'}, {'PREV': '생', 'NEXT': '능', 'CUREENT': '활'}, {'PREV': '활', 'NEXT': '력', 'CUREENT': '능'}, {'PREV': '능', 'NEXT': '이', 'CUREENT': '력'}, {'PREV': '력', 'NEXT': '없', 'CUREENT': '이'}, {'PREV': '이', 'NEXT': '는', 'CUREENT': '없'}, {'PREV': '없', 'NEXT': '데', 'CUREENT': '는'}, {'PREV': '는', 'NEXT': '다', 'CUREENT': '데'}, {'PREV': '데', 'NEXT': '술', 'CUREENT': '다'}, {'PREV': '다', 'NEXT': '을', 'CUREENT': '술'}, {'PREV': '술', 'NEXT': '좋', 'CUREENT': '을'}, {'PREV': '을', 'NEXT': '아', 'CUREENT': '좋'}, {'PREV': '좋', 'NEXT': '하', 'CUREENT': '아'}, {'PREV': '아', 'NEXT': '여', 'CUREENT': '하'}, {'PREV': '하', 'NEXT': '부', 'CUREENT': '여'}, {'PREV': '여', 'NEXT': '부', 'CUREENT': '부'}, {'PREV': '부', 'NEXT': '싸', 'CUREENT': '부'}, {'PREV': '부', 'NEXT': '움', 'CUREENT': '싸'}, {'PREV': '싸', 'NEXT': '이', 'CUREENT': '움'}, {'PREV': '움', 'NEXT': '끊', 'CUREENT': '이'}, {'PREV': '이', 'NEXT': '일', 'CUREENT': '끊'}, {'PREV': '끊', 'NEXT': '날', 'CUREENT': '일'}, {'PREV': '일', 'NEXT': '이', 'CUREENT': '날'}, {'PREV': '날', 'NEXT': '없', 'CUREENT': '이'}, {'PREV': '이', 'NEXT': '었', 'CUREENT': '없'}, {'PREV': '없', 'NEXT': '는', 'CUREENT': '었'}, {'PREV': '었', 'NEXT': '데', 'CUREENT': '는'}, {'PREV': '는', 'NEXT': '준', 'CUREENT': '데'}, {'PREV': '데', 'NEXT': '호', 'CUREENT': '준'}, {'PREV': '준', 'NEXT': '가', 'CUREENT': '호'}, {'PREV': '호', 'NEXT': '중', 'CUREENT': '가'}, {'PREV': '가', 'NEXT': '학', 'CUREENT': '중'}, {'PREV': '중', 'NEXT': '교', 'CUREENT': '학'}, {'PREV': '학', 'NEXT': '에', 'CUREENT': '교'}, {'PREV': '교', 'NEXT': '입', 'CUREENT': '에'}, {'PREV': '에', 'NEXT': '학', 'CUREENT': '입'}, {'PREV': '입', 'NEXT': '하', 'CUREENT': '학'}, {'PREV': '학', 'NEXT': '던', 'CUREENT': '하'}, {'PREV': '하', 'NEXT': '해', 'CUREENT': '던'}, {'PREV': '던', 'NEXT': '남', 'CUREENT': '해'}, {'PREV': '해', 'NEXT': '편', 'CUREENT': '남'}, {'PREV': '남', 'NEXT': '은', 'CUREENT': '편'}, {'PREV': '편', 'NEXT': '제', 'CUREENT': '은'}, {'PREV': '은', 'NEXT': '발', 'CUREENT': '제'}, {'PREV': '제', 'NEXT': '로', 'CUREENT': '발'}, {'PREV': '발', 'NEXT': '집', 'CUREENT': '로'}, {'PREV': '로', 'NEXT': '을', 'CUREENT': '집'}, {'PREV': '집', 'NEXT': '나', 'CUREENT': '을'}, {'PREV': '을', 'NEXT': '갔', 'CUREENT': '나'}, {'PREV': '나', 'NEXT': '다', 'CUREENT': '갔'}, {'PREV': '갔', 'NEXT': '.', 'CUREENT': '다'}, {'PREV': '다', 'CUREENT': '.'}]\n"
          ],
          "name": "stdout"
        }
      ]
    },
    {
      "cell_type": "code",
      "metadata": {
        "id": "5RQjan9dIQ9A",
        "outputId": "4362e8ba-7ac5-4619-b910-5438b944e5a6",
        "colab": {
          "base_uri": "https://localhost:8080/",
          "height": 52
        }
      },
      "source": [
        "print(len(train_x))\n",
        "print(len(test_x))"
      ],
      "execution_count": 10,
      "outputs": [
        {
          "output_type": "stream",
          "text": [
            "900\n",
            "100\n"
          ],
          "name": "stdout"
        }
      ]
    },
    {
      "cell_type": "markdown",
      "metadata": {
        "id": "WdRcx1L7EvPU"
      },
      "source": [
        "## 4. Training CRFs"
      ]
    },
    {
      "cell_type": "code",
      "metadata": {
        "id": "Zc__ip8U_h40",
        "outputId": "3d3029a2-7063-41e3-fb4b-652ac84066cd",
        "colab": {
          "base_uri": "https://localhost:8080/",
          "height": 195
        }
      },
      "source": [
        "crf = sklearn_crfsuite.CRF(algorithm='lbfgs')\n",
        "crf.fit(train_x, train_y)"
      ],
      "execution_count": 11,
      "outputs": [
        {
          "output_type": "stream",
          "text": [
            "/usr/local/lib/python3.6/dist-packages/sklearn/base.py:197: FutureWarning: From version 0.24, get_params will raise an AttributeError if a parameter cannot be retrieved as an instance attribute. Previously it would return None.\n",
            "  FutureWarning)\n"
          ],
          "name": "stderr"
        },
        {
          "output_type": "execute_result",
          "data": {
            "text/plain": [
              "CRF(algorithm='lbfgs', all_possible_states=None, all_possible_transitions=None,\n",
              "    averaging=None, c=None, c1=None, c2=None, calibration_candidates=None,\n",
              "    calibration_eta=None, calibration_max_trials=None, calibration_rate=None,\n",
              "    calibration_samples=None, delta=None, epsilon=None, error_sensitive=None,\n",
              "    gamma=None, keep_tempfiles=None, linesearch=None, max_iterations=None,\n",
              "    max_linesearch=None, min_freq=None, model_filename=None, num_memories=None,\n",
              "    pa_type=None, period=None, trainer_cls=None, variance=None, verbose=False)"
            ]
          },
          "metadata": {
            "tags": []
          },
          "execution_count": 11
        }
      ]
    },
    {
      "cell_type": "markdown",
      "metadata": {
        "id": "OpvMSq7FE-Af"
      },
      "source": [
        "## 5. Visualize & Evaluation"
      ]
    },
    {
      "cell_type": "code",
      "metadata": {
        "id": "zyw50XdzHl-q"
      },
      "source": [
        "# 띄어쓰기 label, predict 결과를 시각화한다.\n",
        "def show_predict_result(test_datas, predict):\n",
        "  for index_1 in range(len(test_datas)):\n",
        "      eumjeol_sequence, correct_labels = test_datas[index_1]\n",
        "      predict_labels = predict[index_1]\n",
        "     \n",
        "      correct_sentence, predict_sentence = \"\", \"\"\n",
        "      for index_2 in range(len(eumjeol_sequence)):\n",
        "          if(index_2 == 0): # 문장의 시작 음절은 그대로 넣어준다\n",
        "              correct_sentence += eumjeol_sequence[index_2]\n",
        "              predict_sentence += eumjeol_sequence[index_2]\n",
        "              continue\n",
        "\n",
        "          if(correct_labels[index_2] == \"B\"):\n",
        "              correct_sentence += \" \"\n",
        "          correct_sentence += eumjeol_sequence[index_2]\n",
        "\n",
        "          if (predict_labels[index_2] == \"B\"):\n",
        "              predict_sentence += \" \"\n",
        "          predict_sentence += eumjeol_sequence[index_2]\n",
        "\n",
        "      print(\"정답 문장 : \" + correct_sentence)\n",
        "      print(\"출력 문장 : \" + predict_sentence)\n",
        "      print()"
      ],
      "execution_count": 12,
      "outputs": []
    },
    {
      "cell_type": "code",
      "metadata": {
        "id": "9xysTEGhBqnh"
      },
      "source": [
        "# Prediction\n",
        "predict = crf.predict(test_x)"
      ],
      "execution_count": 13,
      "outputs": []
    },
    {
      "cell_type": "code",
      "metadata": {
        "id": "fZRf928LFHDM",
        "outputId": "fa5c4d56-f6e5-4281-fc58-21e8488c65b4",
        "colab": {
          "base_uri": "https://localhost:8080/",
          "height": 34
        }
      },
      "source": [
        "# Print Accuracy\n",
        "print(\"Accuracy score : \" + str(metrics.flat_accuracy_score(test_y, predict)))"
      ],
      "execution_count": 14,
      "outputs": [
        {
          "output_type": "stream",
          "text": [
            "Accuracy score : 0.9286721172822103\n"
          ],
          "name": "stdout"
        }
      ]
    },
    {
      "cell_type": "code",
      "metadata": {
        "id": "VSvxZP6oDEmY",
        "outputId": "475ac4bb-163e-4e77-b911-05c742bbd151",
        "colab": {
          "base_uri": "https://localhost:8080/",
          "height": 316
        }
      },
      "source": [
        "# Visualize\n",
        "print(\"5개의 데이터에 대한 모델 출력과 실제 정답 비교\")\n",
        "print()\n",
        "\n",
        "show_predict_result(test_datas[:5], predict[:5])"
      ],
      "execution_count": 15,
      "outputs": [
        {
          "output_type": "stream",
          "text": [
            "5개의 데이터에 대한 모델 출력과 실제 정답 비교\n",
            "\n",
            "정답 문장 : 남편마저 생활 능력이 없는 데다 술을 좋아하여 부부 싸움이 끊일 날이 없었는데 준호가 중학교에 입학하던 해 남편은 제 발로 집을 나갔다.\n",
            "출력 문장 : 남편마 저생 활능력이 없는데 다술을 좋아하여부부싸움이 끊일날이 없었는데 준호가 중학교에 입학하던 해 남편은 제발로 집을 나갔다.\n",
            "\n",
            "정답 문장 : 이루에는 몽고리(蒙古里), 몽골(蒙骨), 몽고사(蒙古斯), 맹고(盟古), 맹골(盟骨), 맹골자(盟骨子) 따위로 불렀다.\n",
            "출력 문장 : 이루에는 몽고리(蒙古里), 몽골(蒙骨), 몽고 사(蒙古斯), 맹고(盟古), 맹골(盟骨), 맹골자(盟 骨子) 따위로 불렀다.\n",
            "\n",
            "정답 문장 : 정식 국명이 '몽골 공화국'인 데다가 저들 자신도 몽골로 불리기를 바라기 때문이다.\n",
            "출력 문장 : 정식 국명이 '몽골 공화국'인데다가 저들 자신도 몽골로 불리기를 바라기 때문이다.\n",
            "\n",
            "정답 문장 : 전혀 제물 때문인 것입니다.\n",
            "출력 문장 : 전혀 제물 때문인 것입니다.\n",
            "\n",
            "정답 문장 : 전화벨이 울렸다.\n",
            "출력 문장 : 전화벨이 울렸다.\n",
            "\n"
          ],
          "name": "stdout"
        }
      ]
    },
    {
      "cell_type": "code",
      "metadata": {
        "id": "6aOKrFnQFKw1"
      },
      "source": [
        ""
      ],
      "execution_count": 15,
      "outputs": []
    }
  ]
}